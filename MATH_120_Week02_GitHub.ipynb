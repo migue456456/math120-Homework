{
  "cells": [
    {
      "cell_type": "markdown",
      "metadata": {
        "id": "view-in-github",
        "colab_type": "text"
      },
      "source": [
        "<a href=\"https://colab.research.google.com/github/migue456456/math120-Homework/blob/main/MATH_120_Week02_GitHub.ipynb\" target=\"_parent\"><img src=\"https://colab.research.google.com/assets/colab-badge.svg\" alt=\"Open In Colab\"/></a>"
      ]
    },
    {
      "cell_type": "markdown",
      "id": "3a91c68a",
      "metadata": {
        "id": "3a91c68a"
      },
      "source": [
        "# Week 2: Git & GitHub — Version Control for Your Code\n",
        "\n",
        "\n",
        "**Overview:**  \n",
        "Version control helps you track changes, recover from mistakes, and collaborate. In this session you’ll learn the Git workflow (clone → edit → add → commit → push/pull), create a README, use branches, and adopt best practices for meaningful commits and clean repositories.\n"
      ]
    },
    {
      "cell_type": "markdown",
      "id": "8c9d0ad1",
      "metadata": {
        "id": "8c9d0ad1"
      },
      "source": [
        "## Learning Objectives\n",
        "- Explain what Git (local) and GitHub (remote hosting) are and why they matter.\n",
        "- Use the core Git workflow: `clone`, `status`, `add`, `commit`, `push`, `pull`.\n",
        "- Create and update a `README.md` to document your project.\n",
        "- Use branches for safe experimentation and merging.\n",
        "- Apply best practices: small commits, descriptive messages, `.gitignore`, and basic PR etiquette.\n"
      ]
    },
    {
      "cell_type": "markdown",
      "id": "8a57fc4e",
      "metadata": {
        "id": "8a57fc4e"
      },
      "source": [
        "## Warm-up Review (10–15 min)\n",
        "Discuss with a partner:\n",
        "1. Describe a time you lost work or overwrote a file. How could version\n",
        "control have helped?\n",
        "\n",
        "* Right now, my computer battery isn't working. All the books I have\n",
        "are cooked from previous math classes.\n",
        "\n",
        "2. What information would you expect to find in a good project README?\n",
        "\n",
        "* Instructions for what to do, what each file is for (overview)\n",
        "* conclusion/summary (or future direction)\n",
        "* duration of the project\n",
        "\n",
        "Short demo (read the output, don't worry if Git isn't installed here):\n"
      ]
    },
    {
      "cell_type": "markdown",
      "id": "34aa6db7",
      "metadata": {
        "id": "34aa6db7"
      },
      "source": [
        "## Mini-Lecture & Live Coding\n",
        "\n",
        "### Key Terms\n",
        "- **Repository (repo):** Folder tracked by Git.\n",
        "- **Staging area:** Where changes go before committing.\n",
        "- **Commit:** A snapshot with a message.\n",
        "- **Remote:** A hosted copy (e.g., GitHub).\n",
        "- **Branch:** A movable pointer for parallel work.\n",
        "\n",
        "### Core Workflow\n",
        "1. **Clone** a remote repo (once)  \n",
        "   ```bash\n",
        "   git clone <repo-url>\n",
        "   cd <repo-name>\n",
        "   ```\n",
        "\n",
        "2. **Edit files** in your editor/Jupyter.\n",
        "\n",
        "3. **Check status** and **stage** changes  \n",
        "   ```bash\n",
        "   git status\n",
        "   git add <file1> <file2>\n",
        "   ```\n",
        "\n",
        "4. **Commit** with a clear message  \n",
        "   ```bash\n",
        "   git commit -m \"Add data loader and unit tests for parser\"\n",
        "   ```\n",
        "\n",
        "5. **Push** to GitHub  \n",
        "   ```bash\n",
        "   git push origin main   # or your branch name\n",
        "   ```\n",
        "\n",
        "6. **Pull** updates from GitHub  \n",
        "   ```bash\n",
        "   git pull origin main\n",
        "   ```\n",
        "\n",
        "> Tip: Make **small, frequent commits** with descriptive messages. Avoid committing large data files; use `.gitignore`.\n"
      ]
    },
    {
      "cell_type": "markdown",
      "id": "de1de4ca",
      "metadata": {
        "id": "de1de4ca"
      },
      "source": [
        "**Your turn (5–10 min):** In a terminal on your machine (or Codespaces), run:\n",
        "1. `git --version`  \n",
        "2. `git config --global user.name \"Your Name\"`  \n",
        "3. `git config --global user.email \"you@example.com\"`  \n",
        "\n",
        "Paste your `git --version` output below:\n"
      ]
    },
    {
      "cell_type": "code",
      "execution_count": null,
      "id": "3ced1834",
      "metadata": {
        "id": "3ced1834"
      },
      "outputs": [],
      "source": [
        "# Paste your `git --version` output here as a Python string or markdown."
      ]
    },
    {
      "cell_type": "markdown",
      "id": "e75145ee",
      "metadata": {
        "id": "e75145ee"
      },
      "source": [
        "## Best Practices for GitHub\n",
        "\n",
        "### Commit Messages\n",
        "- Use the **imperative mood** (e.g., \"Add plot\", not \"Added plot\").\n",
        "- Keep the subject line ≤ 50 chars; add a body if needed (wrap at ~72 chars).\n",
        "- Be specific: what changed and why.\n",
        "\n",
        "**Examples**\n",
        "- Bad: `update`  \n",
        "- Better: `fix: handle empty input in normalize()`  \n",
        "- Better: `docs: add usage example for running_average()`\n",
        "\n",
        "\n",
        "### Branching & Pull Requests\n",
        "- Create a branch per task/feature: `git checkout -b feature/readme-badges`\n",
        "- Push your branch and open a Pull Request (PR) on GitHub.\n",
        "- Ask for review; keep PRs small and focused.\n",
        "\n",
        "### README Essentials\n",
        "- Project title & short description\n",
        "- Install/usage instructions\n",
        "- Example(s) or screenshots\n",
        "- License and credits\n"
      ]
    },
    {
      "cell_type": "markdown",
      "id": "d953377d",
      "metadata": {
        "id": "d953377d"
      },
      "source": [
        "## Guided Practice\n",
        "\n",
        "Work in pairs and follow these steps (in your terminal/editor):\n",
        "1. **Clone** the starter repo provided by the instructor.\n",
        "2. Create a file `hello.py` that prints a greeting with your name.\n",
        "3. Run `git status`, then stage and commit your change.\n",
        "4. `git push` to GitHub; confirm the file appears on the website.\n",
        "5. Update your `README.md` to include a one-sentence description of your change.\n",
        "6. Push again and verify the README on GitHub.\n"
      ]
    },
    {
      "cell_type": "code",
      "execution_count": null,
      "id": "44e3a6b3",
      "metadata": {
        "id": "44e3a6b3"
      },
      "outputs": [],
      "source": [
        "# Use this cell as a log of commands you ran (as text), for submission records.\n",
        "commands = \"\"\"\n",
        "git clone <repo-url>\n",
        "cd <repo-name>\n",
        "# edit hello.py\n",
        "git status\n",
        "git add hello.py README.md\n",
        "git commit -m \"feat: add hello script and update README\"\n",
        "git push origin main\n",
        "\"\"\"\n",
        "print(commands)"
      ]
    },
    {
      "cell_type": "markdown",
      "id": "c14d7059",
      "metadata": {
        "id": "c14d7059"
      },
      "source": [
        "## Independent Practice\n",
        "\n",
        "Complete all three problems. You may collaborate on ideas, but write your own commands and content.\n"
      ]
    },
    {
      "cell_type": "markdown",
      "id": "5e2ad2ed",
      "metadata": {
        "id": "5e2ad2ed"
      },
      "source": [
        "### Problem 1: Commit Message Clinic\n",
        "\n",
        "Write three commit messages for the same change (one bad, two good). The change: you fixed a bug where `running_average` crashed on empty lists.\n",
        "\n",
        "- **Bad (why is it bad?)**  \n",
        "- **Good #1 (why is it good?)**  \n",
        "- **Good #2 (why is it good?)**  \n"
      ]
    },
    {
      "cell_type": "markdown",
      "id": "23aee0ae",
      "metadata": {
        "id": "23aee0ae"
      },
      "source": [
        "**Your answer:**\n"
      ]
    },
    {
      "cell_type": "markdown",
      "id": "06937340",
      "metadata": {
        "id": "06937340"
      },
      "source": [
        "### Problem 2: README.md + Add a file\n",
        "\n",
        "Create a minimal `README.md` for a course mini-project (title, short description, usage).  \n",
        "\n",
        "Paste your README content entry below.\n"
      ]
    },
    {
      "cell_type": "markdown",
      "id": "4b924732",
      "metadata": {
        "id": "4b924732"
      },
      "source": [
        "**README.md (paste):**\n"
      ]
    },
    {
      "cell_type": "markdown",
      "id": "205e0174",
      "metadata": {
        "id": "205e0174"
      },
      "source": [
        "## Wrap-up & Submission (10–15 min)\n",
        "- In a markdown cell below, reflect on: Which GitHub practice will you commit to this semester, and why?\n",
        "- Ensure your notebook runs top-to-bottom without errors (these cells are mostly markdown).\n",
        "- Submit this notebook to Canvas for participation credit AND\n"
      ]
    },
    {
      "cell_type": "markdown",
      "id": "09bed551",
      "metadata": {
        "id": "09bed551"
      },
      "source": [
        "### Reflection\n",
        "*(Write your reflection here.)*"
      ]
    }
  ],
  "metadata": {
    "colab": {
      "provenance": [],
      "include_colab_link": true
    }
  },
  "nbformat": 4,
  "nbformat_minor": 5
}